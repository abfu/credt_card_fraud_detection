{
 "cells": [
  {
   "cell_type": "markdown",
   "metadata": {
    "collapsed": true,
    "pycharm": {
     "name": "#%% md\n"
    }
   },
   "source": [
    "# Credit Card Fraud Detection\n",
    "\n",
    "## Contents\n",
    "\n",
    "* [Introduction](#section1)\n",
    "* [Importing libraries and files](#section2)\n",
    "* [EDA](#section3)\n",
    " * [First look at the data](#section3.1)\n",
    " * [Description of features](#section3.2)\n",
    " * [Balance of class](#section3.3)\n",
    " * [Distribution of features](#section3.4)\n",
    " * skewdness\n",
    " * kurtosis\n",
    "* [Preprocessing](#section4)\n",
    " * Detection of anomalies\n",
    "* Models\n",
    "* Feature Importance\n",
    "* Conclusion\n"
   ]
  },
  {
   "cell_type": "markdown",
   "metadata": {
    "pycharm": {
     "metadata": false,
     "name": "#%% md\n"
    }
   },
   "source": [
    "<a id='section1'></a>\n",
    "## Introduction\n",
    " * Link to Kaggle: https://www.kaggle.com/mlg-ulb/creditcardfraud\n",
    " * Essentially, fraudulent transactions are those, where the holder of the credit card is charged for items he did not purchase."
   ]
  },
  {
   "cell_type": "markdown",
   "metadata": {
    "pycharm": {
     "metadata": false,
     "name": "#%% md\n"
    }
   },
   "source": [
    "<a id='section2'></a>\n",
    "## Importing libraries and files\n"
   ]
  },
  {
   "cell_type": "code",
   "execution_count": 19,
   "metadata": {
    "pycharm": {
     "is_executing": false,
     "metadata": false,
     "name": "#%%\n"
    }
   },
   "outputs": [],
   "source": [
    "import numpy as np\n",
    "import pandas as pd\n",
    "from tqdm import tqdm\n",
    "\n",
    "\n",
    "import matplotlib.pyplot as plt\n",
    "import matplotlib.patches as mpatches\n",
    "from matplotlib.legend_handler import HandlerBase\n",
    "import seaborn as sns\n",
    "\n",
    "from scipy.stats import kurtosis, skew\n",
    "from sklearn.manifold import TSNE\n",
    "from tqdm import tqdm"
   ]
  },
  {
   "cell_type": "code",
   "execution_count": 6,
   "metadata": {
    "pycharm": {
     "is_executing": false,
     "metadata": false,
     "name": "#%%\n"
    }
   },
   "outputs": [],
   "source": [
    "data = pd.read_csv('creditcard.csv')\n"
   ]
  },
  {
   "cell_type": "markdown",
   "metadata": {
    "pycharm": {
     "metadata": false,
     "name": "#%% md\n"
    }
   },
   "source": [
    "<a id='section3'></a>\n",
    "## EDA\n",
    "Description of the data:\n",
    "* shape\n",
    "* data types\n",
    "* Description of features\n",
    "* balance of class\n",
    "* Distribution of amount by target\n",
    "* Distribution of amount by time? fraudulent transact close together?\n",
    "* Distribution of v1-28 by target and maybe by binned amount\n",
    "* skewness\n",
    "* kurtosis\n"
   ]
  },
  {
   "cell_type": "markdown",
   "metadata": {
    "pycharm": {
     "metadata": false,
     "name": "#%% md\n"
    }
   },
   "source": [
    "<a id='section3.1'></a>\n",
    "### First look at the data\n"
   ]
  },
  {
   "cell_type": "code",
   "execution_count": 7,
   "metadata": {
    "pycharm": {
     "is_executing": false,
     "metadata": false,
     "name": "#%%\n"
    }
   },
   "outputs": [
    {
     "name": "stdout",
     "output_type": "stream",
     "text": [
      "Shape of the data:\n",
      "(284807, 31)\n",
      "\n",
      "Data types:\n",
      "[dtype('float64') dtype('int64')]\n",
      "\n",
      "Number of missing values in the data:\n",
      "0\n"
     ]
    }
   ],
   "source": [
    "print('Shape of the data:\\n{}'.format(data.shape))\n",
    "\n",
    "print('\\nData types:\\n{}'.format(pd.unique(data.dtypes)))\n",
    "\n",
    "print('\\nNumber of missing values in the data:\\n{}'.format(data.isna().sum().sum()))"
   ]
  },
  {
   "cell_type": "code",
   "execution_count": 8,
   "metadata": {
    "pycharm": {
     "is_executing": false,
     "metadata": false,
     "name": "#%%\n"
    }
   },
   "outputs": [
    {
     "data": {
      "text/html": [
       "<div>\n",
       "<style scoped>\n",
       "    .dataframe tbody tr th:only-of-type {\n",
       "        vertical-align: middle;\n",
       "    }\n",
       "\n",
       "    .dataframe tbody tr th {\n",
       "        vertical-align: top;\n",
       "    }\n",
       "\n",
       "    .dataframe thead th {\n",
       "        text-align: right;\n",
       "    }\n",
       "</style>\n",
       "<table border=\"1\" class=\"dataframe\">\n",
       "  <thead>\n",
       "    <tr style=\"text-align: right;\">\n",
       "      <th></th>\n",
       "      <th>Time</th>\n",
       "      <th>V1</th>\n",
       "      <th>V2</th>\n",
       "      <th>V3</th>\n",
       "      <th>V4</th>\n",
       "      <th>V5</th>\n",
       "      <th>V6</th>\n",
       "      <th>V7</th>\n",
       "      <th>V8</th>\n",
       "      <th>V9</th>\n",
       "      <th>...</th>\n",
       "      <th>V21</th>\n",
       "      <th>V22</th>\n",
       "      <th>V23</th>\n",
       "      <th>V24</th>\n",
       "      <th>V25</th>\n",
       "      <th>V26</th>\n",
       "      <th>V27</th>\n",
       "      <th>V28</th>\n",
       "      <th>Amount</th>\n",
       "      <th>Class</th>\n",
       "    </tr>\n",
       "  </thead>\n",
       "  <tbody>\n",
       "    <tr>\n",
       "      <th>count</th>\n",
       "      <td>284807.000</td>\n",
       "      <td>284807.000</td>\n",
       "      <td>284807.000</td>\n",
       "      <td>284807.000</td>\n",
       "      <td>284807.000</td>\n",
       "      <td>284807.000</td>\n",
       "      <td>284807.000</td>\n",
       "      <td>284807.000</td>\n",
       "      <td>284807.000</td>\n",
       "      <td>284807.000</td>\n",
       "      <td>...</td>\n",
       "      <td>284807.000</td>\n",
       "      <td>284807.000</td>\n",
       "      <td>284807.000</td>\n",
       "      <td>284807.000</td>\n",
       "      <td>284807.000</td>\n",
       "      <td>284807.000</td>\n",
       "      <td>284807.000</td>\n",
       "      <td>284807.000</td>\n",
       "      <td>284807.000</td>\n",
       "      <td>284807.000</td>\n",
       "    </tr>\n",
       "    <tr>\n",
       "      <th>mean</th>\n",
       "      <td>94813.860</td>\n",
       "      <td>0.000</td>\n",
       "      <td>0.000</td>\n",
       "      <td>-0.000</td>\n",
       "      <td>0.000</td>\n",
       "      <td>0.000</td>\n",
       "      <td>0.000</td>\n",
       "      <td>-0.000</td>\n",
       "      <td>0.000</td>\n",
       "      <td>-0.000</td>\n",
       "      <td>...</td>\n",
       "      <td>0.000</td>\n",
       "      <td>-0.000</td>\n",
       "      <td>0.000</td>\n",
       "      <td>0.000</td>\n",
       "      <td>0.000</td>\n",
       "      <td>0.000</td>\n",
       "      <td>-0.000</td>\n",
       "      <td>-0.000</td>\n",
       "      <td>88.350</td>\n",
       "      <td>0.002</td>\n",
       "    </tr>\n",
       "    <tr>\n",
       "      <th>std</th>\n",
       "      <td>47488.146</td>\n",
       "      <td>1.959</td>\n",
       "      <td>1.651</td>\n",
       "      <td>1.516</td>\n",
       "      <td>1.416</td>\n",
       "      <td>1.380</td>\n",
       "      <td>1.332</td>\n",
       "      <td>1.237</td>\n",
       "      <td>1.194</td>\n",
       "      <td>1.099</td>\n",
       "      <td>...</td>\n",
       "      <td>0.735</td>\n",
       "      <td>0.726</td>\n",
       "      <td>0.624</td>\n",
       "      <td>0.606</td>\n",
       "      <td>0.521</td>\n",
       "      <td>0.482</td>\n",
       "      <td>0.404</td>\n",
       "      <td>0.330</td>\n",
       "      <td>250.120</td>\n",
       "      <td>0.042</td>\n",
       "    </tr>\n",
       "    <tr>\n",
       "      <th>min</th>\n",
       "      <td>0.000</td>\n",
       "      <td>-56.408</td>\n",
       "      <td>-72.716</td>\n",
       "      <td>-48.326</td>\n",
       "      <td>-5.683</td>\n",
       "      <td>-113.743</td>\n",
       "      <td>-26.161</td>\n",
       "      <td>-43.557</td>\n",
       "      <td>-73.217</td>\n",
       "      <td>-13.434</td>\n",
       "      <td>...</td>\n",
       "      <td>-34.830</td>\n",
       "      <td>-10.933</td>\n",
       "      <td>-44.808</td>\n",
       "      <td>-2.837</td>\n",
       "      <td>-10.295</td>\n",
       "      <td>-2.605</td>\n",
       "      <td>-22.566</td>\n",
       "      <td>-15.430</td>\n",
       "      <td>0.000</td>\n",
       "      <td>0.000</td>\n",
       "    </tr>\n",
       "    <tr>\n",
       "      <th>25%</th>\n",
       "      <td>54201.500</td>\n",
       "      <td>-0.920</td>\n",
       "      <td>-0.599</td>\n",
       "      <td>-0.890</td>\n",
       "      <td>-0.849</td>\n",
       "      <td>-0.692</td>\n",
       "      <td>-0.768</td>\n",
       "      <td>-0.554</td>\n",
       "      <td>-0.209</td>\n",
       "      <td>-0.643</td>\n",
       "      <td>...</td>\n",
       "      <td>-0.228</td>\n",
       "      <td>-0.542</td>\n",
       "      <td>-0.162</td>\n",
       "      <td>-0.355</td>\n",
       "      <td>-0.317</td>\n",
       "      <td>-0.327</td>\n",
       "      <td>-0.071</td>\n",
       "      <td>-0.053</td>\n",
       "      <td>5.600</td>\n",
       "      <td>0.000</td>\n",
       "    </tr>\n",
       "    <tr>\n",
       "      <th>50%</th>\n",
       "      <td>84692.000</td>\n",
       "      <td>0.018</td>\n",
       "      <td>0.065</td>\n",
       "      <td>0.180</td>\n",
       "      <td>-0.020</td>\n",
       "      <td>-0.054</td>\n",
       "      <td>-0.274</td>\n",
       "      <td>0.040</td>\n",
       "      <td>0.022</td>\n",
       "      <td>-0.051</td>\n",
       "      <td>...</td>\n",
       "      <td>-0.029</td>\n",
       "      <td>0.007</td>\n",
       "      <td>-0.011</td>\n",
       "      <td>0.041</td>\n",
       "      <td>0.017</td>\n",
       "      <td>-0.052</td>\n",
       "      <td>0.001</td>\n",
       "      <td>0.011</td>\n",
       "      <td>22.000</td>\n",
       "      <td>0.000</td>\n",
       "    </tr>\n",
       "    <tr>\n",
       "      <th>75%</th>\n",
       "      <td>139320.500</td>\n",
       "      <td>1.316</td>\n",
       "      <td>0.804</td>\n",
       "      <td>1.027</td>\n",
       "      <td>0.743</td>\n",
       "      <td>0.612</td>\n",
       "      <td>0.399</td>\n",
       "      <td>0.570</td>\n",
       "      <td>0.327</td>\n",
       "      <td>0.597</td>\n",
       "      <td>...</td>\n",
       "      <td>0.186</td>\n",
       "      <td>0.529</td>\n",
       "      <td>0.148</td>\n",
       "      <td>0.440</td>\n",
       "      <td>0.351</td>\n",
       "      <td>0.241</td>\n",
       "      <td>0.091</td>\n",
       "      <td>0.078</td>\n",
       "      <td>77.165</td>\n",
       "      <td>0.000</td>\n",
       "    </tr>\n",
       "    <tr>\n",
       "      <th>max</th>\n",
       "      <td>172792.000</td>\n",
       "      <td>2.455</td>\n",
       "      <td>22.058</td>\n",
       "      <td>9.383</td>\n",
       "      <td>16.875</td>\n",
       "      <td>34.802</td>\n",
       "      <td>73.302</td>\n",
       "      <td>120.589</td>\n",
       "      <td>20.007</td>\n",
       "      <td>15.595</td>\n",
       "      <td>...</td>\n",
       "      <td>27.203</td>\n",
       "      <td>10.503</td>\n",
       "      <td>22.528</td>\n",
       "      <td>4.585</td>\n",
       "      <td>7.520</td>\n",
       "      <td>3.517</td>\n",
       "      <td>31.612</td>\n",
       "      <td>33.848</td>\n",
       "      <td>25691.160</td>\n",
       "      <td>1.000</td>\n",
       "    </tr>\n",
       "  </tbody>\n",
       "</table>\n",
       "<p>8 rows × 31 columns</p>\n",
       "</div>"
      ],
      "text/plain": [
       "             Time          V1          V2          V3          V4          V5  \\\n",
       "count  284807.000  284807.000  284807.000  284807.000  284807.000  284807.000   \n",
       "mean    94813.860       0.000       0.000      -0.000       0.000       0.000   \n",
       "std     47488.146       1.959       1.651       1.516       1.416       1.380   \n",
       "min         0.000     -56.408     -72.716     -48.326      -5.683    -113.743   \n",
       "25%     54201.500      -0.920      -0.599      -0.890      -0.849      -0.692   \n",
       "50%     84692.000       0.018       0.065       0.180      -0.020      -0.054   \n",
       "75%    139320.500       1.316       0.804       1.027       0.743       0.612   \n",
       "max    172792.000       2.455      22.058       9.383      16.875      34.802   \n",
       "\n",
       "               V6          V7          V8          V9  ...         V21  \\\n",
       "count  284807.000  284807.000  284807.000  284807.000  ...  284807.000   \n",
       "mean        0.000      -0.000       0.000      -0.000  ...       0.000   \n",
       "std         1.332       1.237       1.194       1.099  ...       0.735   \n",
       "min       -26.161     -43.557     -73.217     -13.434  ...     -34.830   \n",
       "25%        -0.768      -0.554      -0.209      -0.643  ...      -0.228   \n",
       "50%        -0.274       0.040       0.022      -0.051  ...      -0.029   \n",
       "75%         0.399       0.570       0.327       0.597  ...       0.186   \n",
       "max        73.302     120.589      20.007      15.595  ...      27.203   \n",
       "\n",
       "              V22         V23         V24         V25         V26         V27  \\\n",
       "count  284807.000  284807.000  284807.000  284807.000  284807.000  284807.000   \n",
       "mean       -0.000       0.000       0.000       0.000       0.000      -0.000   \n",
       "std         0.726       0.624       0.606       0.521       0.482       0.404   \n",
       "min       -10.933     -44.808      -2.837     -10.295      -2.605     -22.566   \n",
       "25%        -0.542      -0.162      -0.355      -0.317      -0.327      -0.071   \n",
       "50%         0.007      -0.011       0.041       0.017      -0.052       0.001   \n",
       "75%         0.529       0.148       0.440       0.351       0.241       0.091   \n",
       "max        10.503      22.528       4.585       7.520       3.517      31.612   \n",
       "\n",
       "              V28      Amount       Class  \n",
       "count  284807.000  284807.000  284807.000  \n",
       "mean       -0.000      88.350       0.002  \n",
       "std         0.330     250.120       0.042  \n",
       "min       -15.430       0.000       0.000  \n",
       "25%        -0.053       5.600       0.000  \n",
       "50%         0.011      22.000       0.000  \n",
       "75%         0.078      77.165       0.000  \n",
       "max        33.848   25691.160       1.000  \n",
       "\n",
       "[8 rows x 31 columns]"
      ]
     },
     "execution_count": 8,
     "metadata": {},
     "output_type": "execute_result"
    }
   ],
   "source": [
    "pd.DataFrame.round(data.describe(), decimals=3)\n"
   ]
  },
  {
   "cell_type": "markdown",
   "metadata": {
    "pycharm": {
     "metadata": false,
     "name": "#%% md\n"
    }
   },
   "source": [
    "<a id='section3.2'></a>\n",
    "### Description of features\n",
    "\n",
    "Time \n",
    "- Number of seconds elapsed between this transaction and the first transaction in the dataset.\n",
    "\n",
    "Amount\n",
    "- Transaction Amount.\n",
    "\n",
    "Class\n",
    "- 1 for fraudulent transaction, 0 for non-fraudulent transaction.\n",
    "\n",
    "V1 - V28\n",
    "- Numerical input variables which are the principal components obtained with PCA transformation.\n"
   ]
  },
  {
   "cell_type": "markdown",
   "metadata": {
    "pycharm": {
     "metadata": false,
     "name": "#%% md\n"
    }
   },
   "source": [
    "<a id='section3.3'></a>\n",
    "### Balance of class\n"
   ]
  },
  {
   "cell_type": "code",
   "execution_count": 9,
   "metadata": {
    "pycharm": {
     "is_executing": false,
     "metadata": false,
     "name": "#%%\n"
    }
   },
   "outputs": [
    {
     "data": {
      "image/png": "[encoded data removed]",
      "text/plain": [
       "<Figure size 720x144 with 1 Axes>"
      ]
     },
     "metadata": {
      "needs_background": "light"
     },
     "output_type": "display_data"
    },
    {
     "name": "stdout",
     "output_type": "stream",
     "text": [
      "Number of fraudulent transactions in the data:\n",
      "492\n",
      "0.00173% of the transactions are fraudulent\n"
     ]
    }
   ],
   "source": [
    "fig = plt.figure(figsize=(10, 2))\n",
    "plt.title('Balance of class')\n",
    "ax = sns.countplot(y=data.Class)\n",
    "plt.show()\n",
    "\n",
    "print('Number of fraudulent transactions in the data:\\n{}'.format(data['Class'].loc[data['Class'] == 1].count()))\n",
    "print('{}% of the transactions are fraudulent'\n",
    "      .format(round(data['Class'].loc[data['Class'] == 1].count()/data['Class'].count(), 5)))\n"
   ]
  },
  {
   "cell_type": "markdown",
   "metadata": {
    "pycharm": {
     "metadata": false,
     "name": "#%% md\n"
    }
   },
   "source": [
    "The data set is highly unbalanced with 492 cases of fraud out of 284,807 transactions.\n",
    "Besides the necessity of stratified sampling, Tom Fawcett recommends in his blog a number of steps which can be \n",
    "to handle the imbalance of classes.* The publishers of the data set recommend using\n",
    "the area under the Precision-Recall Curve (AUPRC) as a measurement of accuracy.\n",
    "\n",
    "*Source: https://www.svds.com/learning-imbalanced-classes\n"
   ]
  },
  {
   "cell_type": "markdown",
   "metadata": {
    "pycharm": {
     "metadata": false,
     "name": "#%% md\n"
    }
   },
   "source": [
    "<a id='section3.4'></a>\n",
    "### Distribution of features\n"
   ]
  },
  {
   "cell_type": "code",
   "execution_count": 10,
   "metadata": {
    "pycharm": {
     "is_executing": false,
     "metadata": false,
     "name": "#%%\n"
    }
   },
   "outputs": [],
   "source": [
    "data_nf = data.loc[data['Class'] == 0]\n",
    "data_f = data.loc[data['Class'] == 1]\n"
   ]
  },
  {
   "cell_type": "code",
   "execution_count": 11,
   "metadata": {
    "pycharm": {
     "is_executing": false,
     "metadata": false,
     "name": "#%%\n"
    }
   },
   "outputs": [
    {
     "name": "stderr",
     "output_type": "stream",
     "text": [
      "C:\\Anaconda\\envs\\Py\\lib\\site-packages\\matplotlib\\figure.py:445: UserWarning: Matplotlib is currently using module://ipykernel.pylab.backend_inline, which is a non-GUI backend, so cannot show the figure.\n",
      "  % get_backend())\n"
     ]
    },
    {
     "data": {
      "image/png": "[encoded data removed]",
      "text/plain": [
       "<Figure size 1440x720 with 28 Axes>"
      ]
     },
     "metadata": {},
     "output_type": "display_data"
    }
   ],
   "source": [
    "# Plotting distribution of features V1 to V28\n",
    "\n",
    "def plt_var_dist():\n",
    "    features = data.columns[1:29]\n",
    "    fig, axes = plt.subplots(ncols=4, nrows=7, figsize=(20, 10))\n",
    "    for ax, feature in  zip(axes.flatten(), features):\n",
    "        sns.distplot(data_nf[feature], kde=False, norm_hist=True,label='non-fraudulent', ax=ax)\n",
    "        sns.distplot(data_f[feature], kde=False, norm_hist=True,label='fraudulent', ax=ax)\n",
    "        ax.set_xticks([])\n",
    "        ax.set_yticks([])\n",
    "    blue_patch = mpatches.Patch(color='blue', label='non-fraudulent', alpha=0.3)\n",
    "    orange_patch = mpatches.Patch(color='orange', label='fraudulent', alpha=0.3)\n",
    "    fig.legend(handles=[blue_patch, orange_patch], ncol=2, loc='upper center')\n",
    "    fig.subplots_adjust(hspace=0.4)\n",
    "    \n",
    "    fig.show()\n",
    "        \n",
    "plt_var_dist()\n",
    "\n"
   ]
  },
  {
   "cell_type": "markdown",
   "metadata": {
    "pycharm": {
     "metadata": false,
     "name": "#%% md\n"
    }
   },
   "source": [
    "Distribution of 'Time' feature\n"
   ]
  },
  {
   "cell_type": "code",
   "execution_count": 12,
   "metadata": {
    "pycharm": {
     "is_executing": false,
     "metadata": false,
     "name": "#%%\n"
    }
   },
   "outputs": [
    {
     "data": {
      "image/png": "[encoded data removed]",
      "text/plain": [
       "<Figure size 1152x648 with 1 Axes>"
      ]
     },
     "metadata": {
      "needs_background": "light"
     },
     "output_type": "display_data"
    }
   ],
   "source": [
    "plt.figure(figsize=(16, 9))\n",
    "sns.distplot(data_nf['Time'], kde=False, hist=True, label='non-fraudulent')\n",
    "sns.distplot(data_f['Time'], kde=False, rug=True, hist=False, label='fraudulent')\n",
    "plt.legend()\n",
    "plt.show()\n"
   ]
  },
  {
   "cell_type": "markdown",
   "metadata": {
    "pycharm": {
     "name": "#%% md\n"
    }
   },
   "source": [
    "Options for time feature:\n",
    "\n",
    "* treat as time series\n",
    "* \n"
   ]
  },
  {
   "cell_type": "markdown",
   "metadata": {
    "pycharm": {
     "metadata": false,
     "name": "#%% md\n"
    }
   },
   "source": [
    "Distribution of 'Amount' feature\n"
   ]
  },
  {
   "cell_type": "code",
   "execution_count": 13,
   "metadata": {
    "pycharm": {
     "is_executing": false,
     "metadata": false,
     "name": "#%%\n"
    }
   },
   "outputs": [
    {
     "name": "stdout",
     "output_type": "stream",
     "text": [
      "Summary of 'Amount' for non-fraudulent transactions:\n",
      "\n",
      "count    284315.000000\n",
      "mean         88.291022\n",
      "std         250.105092\n",
      "min           0.000000\n",
      "25%           5.650000\n",
      "50%          22.000000\n",
      "75%          77.050000\n",
      "max       25691.160000\n",
      "Name: Amount, dtype: float64\n",
      "\n",
      "\n",
      "Summary of 'Amount' for fraudulent transactions:\n",
      "\n",
      "count     492.000000\n",
      "mean      122.211321\n",
      "std       256.683288\n",
      "min         0.000000\n",
      "25%         1.000000\n",
      "50%         9.250000\n",
      "75%       105.890000\n",
      "max      2125.870000\n",
      "Name: Amount, dtype: float64\n"
     ]
    }
   ],
   "source": [
    "print('Summary of \\'Amount\\' for non-fraudulent transactions:\\n\\n{}'.format(data_nf['Amount'].describe()))\n",
    "print('\\n\\nSummary of \\'Amount\\' for fraudulent transactions:\\n\\n{}'.format(data_f['Amount'].describe()))\n"
   ]
  },
  {
   "cell_type": "markdown",
   "metadata": {
    "pycharm": {
     "metadata": false,
     "name": "#%% md\n"
    }
   },
   "source": [
    "* Outliers are extremly high for both cases in relation to mean.\n",
    "* fraudulent transactions tend to be of a lower amount than non-fraudulent transactions. 1/5th of 25% quantile, less\n",
    "than half of mean.\n",
    "* std for both cases is fairly close (250 vs 256), considering that fraudulent transactions tend to be of a lower amount.\n",
    "This means, that \n"
   ]
  },
  {
   "cell_type": "markdown",
   "metadata": {
    "pycharm": {
     "metadata": false,
     "name": "#%% md\n"
    }
   },
   "source": [
    "Let's see what the percentage of outliers is.\n",
    "  \n",
    "  Define outliers as datapoints in 95'th percentile\n"
   ]
  },
  {
   "cell_type": "code",
   "execution_count": 14,
   "metadata": {
    "pycharm": {
     "is_executing": false,
     "metadata": false,
     "name": "#%%\n"
    }
   },
   "outputs": [
    {
     "data": {
      "text/plain": [
       "640.9049999999999"
      ]
     },
     "execution_count": 14,
     "metadata": {},
     "output_type": "execute_result"
    }
   ],
   "source": [
    "data_f['Amount'].quantile(.95)"
   ]
  },
  {
   "cell_type": "code",
   "execution_count": 15,
   "metadata": {
    "pycharm": {
     "is_executing": false,
     "metadata": false,
     "name": "#%%\n"
    }
   },
   "outputs": [
    {
     "data": {
      "text/plain": [
       "<matplotlib.axes._subplots.AxesSubplot at 0x180b62f47f0>"
      ]
     },
     "execution_count": 15,
     "metadata": {},
     "output_type": "execute_result"
    },
    {
     "data": {
      "image/png": "[encoded data removed]",
      "text/plain": [
       "<Figure size 432x288 with 1 Axes>"
      ]
     },
     "metadata": {
      "needs_background": "light"
     },
     "output_type": "display_data"
    }
   ],
   "source": [
    "sns.distplot(data_nf['Amount'])\n",
    "sns.distplot(data_f['Amount'])\n"
   ]
  },
  {
   "cell_type": "markdown",
   "metadata": {
    "pycharm": {
     "metadata": false,
     "name": "#%% md\n"
    }
   },
   "source": [
    "Log amount\n",
    "\n",
    "how many 0 value transactions\n"
   ]
  },
  {
   "cell_type": "code",
   "execution_count": 16,
   "metadata": {
    "pycharm": {
     "is_executing": false,
     "name": "#%%\n"
    }
   },
   "outputs": [
    {
     "name": "stdout",
     "output_type": "stream",
     "text": [
      "Zero value non-fraudulent transactions:\n",
      "1798\n",
      "0.0063% of all non-fraudulent transactions\n",
      "\n",
      "Zero value fraudulent ransactions:\n",
      "27\n",
      "0.0549% of all non-fraudulent transactions\n"
     ]
    }
   ],
   "source": [
    "print('Zero value non-fraudulent transactions:\\n{}\\n{}% of all non-fraudulent transactions'.format(\n",
    "    data_nf['Amount'].loc[data_nf['Amount']==0].count(),\n",
    "    round(data_nf['Amount'].loc[data_nf['Amount']==0].count()/len(data_nf['Amount']), 4)\n",
    "    ))\n",
    "print('\\nZero value fraudulent ransactions:\\n{}\\n{}% of all non-fraudulent transactions'.format(\n",
    "    data_f['Amount'].loc[data_f['Amount']==0].count(),\n",
    "    round(data_f['Amount'].loc[data_f['Amount']==0].count()/len(data_f['Amount']), 4)\n",
    "    ))\n"
   ]
  },
  {
   "cell_type": "markdown",
   "metadata": {
    "pycharm": {
     "name": "#%% md\n"
    }
   },
   "source": [
    "Transactions with value of 0 are more likely to be fraudulent\n",
    "* Could create seperate model for zero-vlaue transactions\n",
    "\n",
    "\n"
   ]
  },
  {
   "cell_type": "code",
   "execution_count": 28,
   "metadata": {
    "pycharm": {
     "is_executing": false,
     "metadata": false,
     "name": "#%%\n"
    }
   },
   "outputs": [
    {
     "name": "stderr",
     "output_type": "stream",
     "text": [
      "C:\\Anaconda\\envs\\Py\\lib\\site-packages\\ipykernel_launcher.py:5: RuntimeWarning: invalid value encountered in log10\n",
      "  \"\"\"\n"
     ]
    },
    {
     "data": {
      "image/png": "[encoded data removed]",
      "text/plain": [
       "<Figure size 1152x648 with 1 Axes>"
      ]
     },
     "metadata": {
      "needs_background": "light"
     },
     "output_type": "display_data"
    }
   ],
   "source": [
    "data_log = pd.DataFrame()\n",
    "data_log['Amount'] = data['Amount'].replace(0, -1)\n",
    "\n",
    "plt.figure(figsize=(16, 9))\n",
    "sns.boxplot(y=np.log10(data_log['Amount']), x='Class', data=data)\n",
    "plt.xticks(np.arange(0, 2), ('fraud', 'non-fraud'))\n",
    "plt.show()\n",
    "\n",
    "del(data_log)\n"
   ]
  },
  {
   "cell_type": "markdown",
   "metadata": {
    "pycharm": {
     "metadata": false,
     "name": "#%% md\n"
    }
   },
   "source": [
    "skew for target and kurtosis for target T-SNE\n"
   ]
  },
  {
   "cell_type": "markdown",
   "metadata": {
    "pycharm": {
     "name": "#%% md\n"
    }
   },
   "source": [
    "t-distributed Stochastic Neighbor Embedding"
   ]
  },
  {
   "cell_type": "code",
   "execution_count": 18,
   "metadata": {
    "pycharm": {
     "is_executing": false,
     "name": "#%%\n"
    }
   },
   "outputs": [],
   "source": [
    "data_var = data.drop(['Amount', 'Time'], axis=1)\n"
   ]
  },
  {
   "cell_type": "markdown",
   "metadata": {
    "pycharm": {
     "is_executing": false,
     "name": "#%% md\n"
    }
   },
   "source": [
    "<a id='section4'></a>\n",
    "## Preprocessing\n"
   ]
  },
  {
   "cell_type": "markdown",
   "metadata": {
    "pycharm": {
     "name": "#%% md\n"
    }
   },
   "source": [
    "<a id='section4.1'></a>\n"
   ]
  }
 ],
 "metadata": {
  "kernelspec": {
   "display_name": "Python 3",
   "language": "python",
   "name": "python3"
  },
  "language_info": {
   "codemirror_mode": {
    "name": "ipython",
    "version": 3
   },
   "file_extension": ".py",
   "mimetype": "text/x-python",
   "name": "python",
   "nbconvert_exporter": "python",
   "pygments_lexer": "ipython3",
   "version": "3.7.3"
  },
  "pycharm": {
   "stem_cell": {
    "cell_type": "raw",
    "metadata": {
     "collapsed": false
    },
    "source": []
   }
  }
 },
 "nbformat": 4,
 "nbformat_minor": 1
}

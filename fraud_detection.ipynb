{
  "cells": [
    {
      "cell_type": "markdown",
      "metadata": {
        "collapsed": true,
        "pycharm": {
          "name": "#%% md\n"
        }
      },
      "source": "# Credit Card Fraud Detection\n\n## Contents\n\n* [Introduction](#section1)\n* [Importing libraries and files](#section2)\n* [EDA](#section3)\n * [First look at the data](#section3.1)\n * [Description of features](#section3.2)\n * [Balance of class](#section3.3)\n * [Distribution of features](#section3.4)\n * skewdness\n * kurtosis\n\n* Preprocessing\n* Models\n* Feature Importance\n* Conclusion\n"
    },
    {
      "cell_type": "markdown",
      "source": "\u003ca id\u003d\u0027section1\u0027\u003e\u003c/a\u003e\n## Introduction\n * Link to Kaggle: https://www.kaggle.com/mlg-ulb/creditcardfraud\n * ",
      "metadata": {
        "pycharm": {
          "metadata": false,
          "name": "#%% md\n"
        }
      }
    },
    {
      "cell_type": "markdown",
      "source": "\u003ca id\u003d\u0027section2\u0027\u003e\u003c/a\u003e\n## Importing libraries and files\n",
      "metadata": {
        "pycharm": {
          "metadata": false,
          "name": "#%% md\n"
        }
      }
    },
    {
      "cell_type": "code",
      "execution_count": 32,
      "outputs": [],
      "source": "\nimport numpy as np\nimport pandas as pd\nfrom tqdm import tqdm\n\nimport matplotlib.pyplot as plt\nfrom matplotlib.legend_handler import HandlerBase\nimport seaborn as sns\n",
      "metadata": {
        "pycharm": {
          "metadata": false,
          "name": "#%%\n",
          "is_executing": false
        }
      }
    },
    {
      "cell_type": "code",
      "execution_count": 4,
      "outputs": [],
      "source": "data \u003d pd.read_csv(\u0027creditcard.csv\u0027)\n",
      "metadata": {
        "pycharm": {
          "metadata": false,
          "name": "#%%\n",
          "is_executing": false
        }
      }
    },
    {
      "cell_type": "markdown",
      "source": "\u003ca id\u003d\u0027section3\u0027\u003e\u003c/a\u003e\n## EDA\nDescription of the data:\n* shape\n* data types\n* Description of features\n* balance of class\n* Distribution of amount by target\n* Distribution of amount by time? fraudulent transact close together?\n* Distribution of v1-28 by target and maybe by binned amount\n* skewdness\n* kurtosis\n",
      "metadata": {
        "pycharm": {
          "metadata": false,
          "name": "#%% md\n"
        }
      }
    },
    {
      "cell_type": "markdown",
      "source": "\u003ca id\u003d\u0027section3.1\u0027\u003e\u003c/a\u003e\n### First look at the data\n",
      "metadata": {
        "pycharm": {
          "metadata": false,
          "name": "#%% md\n"
        }
      }
    },
    {
      "cell_type": "code",
      "execution_count": 6,
      "outputs": [
        {
          "name": "stdout",
          "text": [
            "Shape of the data:\n(284807, 31)",
            "\n",
            "\nData types:\n[dtype(\u0027float64\u0027) dtype(\u0027int64\u0027)]",
            "\n",
            "\nNumber of missing values in the data:\n0",
            "\n"
          ],
          "output_type": "stream"
        }
      ],
      "source": "print(\u0027Shape of the data:\\n{}\u0027.format(data.shape))\n\nprint(\u0027\\nData types:\\n{}\u0027.format(pd.unique(data.dtypes)))\n\nprint(\u0027\\nNumber of missing values in the data:\\n{}\u0027.format(data.isna().sum().sum()))",
      "metadata": {
        "pycharm": {
          "metadata": false,
          "name": "#%%\n",
          "is_executing": false
        }
      }
    },
    {
      "cell_type": "code",
      "execution_count": 15,
      "outputs": [
        {
          "data": {
            "text/plain": "             Time          V1          V2          V3          V4          V5  \\\ncount  284807.000  284807.000  284807.000  284807.000  284807.000  284807.000   \nmean    94813.860       0.000       0.000      -0.000       0.000       0.000   \nstd     47488.146       1.959       1.651       1.516       1.416       1.380   \nmin         0.000     -56.408     -72.716     -48.326      -5.683    -113.743   \n25%     54201.500      -0.920      -0.599      -0.890      -0.849      -0.692   \n50%     84692.000       0.018       0.065       0.180      -0.020      -0.054   \n75%    139320.500       1.316       0.804       1.027       0.743       0.612   \nmax    172792.000       2.455      22.058       9.383      16.875      34.802   \n\n               V6          V7          V8          V9  ...         V21  \\\ncount  284807.000  284807.000  284807.000  284807.000  ...  284807.000   \nmean        0.000      -0.000       0.000      -0.000  ...       0.000   \nstd         1.332       1.237       1.194       1.099  ...       0.735   \nmin       -26.161     -43.557     -73.217     -13.434  ...     -34.830   \n25%        -0.768      -0.554      -0.209      -0.643  ...      -0.228   \n50%        -0.274       0.040       0.022      -0.051  ...      -0.029   \n75%         0.399       0.570       0.327       0.597  ...       0.186   \nmax        73.302     120.589      20.007      15.595  ...      27.203   \n\n              V22         V23         V24         V25         V26         V27  \\\ncount  284807.000  284807.000  284807.000  284807.000  284807.000  284807.000   \nmean       -0.000       0.000       0.000       0.000       0.000      -0.000   \nstd         0.726       0.624       0.606       0.521       0.482       0.404   \nmin       -10.933     -44.808      -2.837     -10.295      -2.605     -22.566   \n25%        -0.542      -0.162      -0.355      -0.317      -0.327      -0.071   \n50%         0.007      -0.011       0.041       0.017      -0.052       0.001   \n75%         0.529       0.148       0.440       0.351       0.241       0.091   \nmax        10.503      22.528       4.585       7.520       3.517      31.612   \n\n              V28      Amount       Class  \ncount  284807.000  284807.000  284807.000  \nmean       -0.000      88.350       0.002  \nstd         0.330     250.120       0.042  \nmin       -15.430       0.000       0.000  \n25%        -0.053       5.600       0.000  \n50%         0.011      22.000       0.000  \n75%         0.078      77.165       0.000  \nmax        33.848   25691.160       1.000  \n\n[8 rows x 31 columns]",
            "text/html": "\u003cdiv\u003e\n\u003cstyle scoped\u003e\n    .dataframe tbody tr th:only-of-type {\n        vertical-align: middle;\n    }\n\n    .dataframe tbody tr th {\n        vertical-align: top;\n    }\n\n    .dataframe thead th {\n        text-align: right;\n    }\n\u003c/style\u003e\n\u003ctable border\u003d\"1\" class\u003d\"dataframe\"\u003e\n  \u003cthead\u003e\n    \u003ctr style\u003d\"text-align: right;\"\u003e\n      \u003cth\u003e\u003c/th\u003e\n      \u003cth\u003eTime\u003c/th\u003e\n      \u003cth\u003eV1\u003c/th\u003e\n      \u003cth\u003eV2\u003c/th\u003e\n      \u003cth\u003eV3\u003c/th\u003e\n      \u003cth\u003eV4\u003c/th\u003e\n      \u003cth\u003eV5\u003c/th\u003e\n      \u003cth\u003eV6\u003c/th\u003e\n      \u003cth\u003eV7\u003c/th\u003e\n      \u003cth\u003eV8\u003c/th\u003e\n      \u003cth\u003eV9\u003c/th\u003e\n      \u003cth\u003e...\u003c/th\u003e\n      \u003cth\u003eV21\u003c/th\u003e\n      \u003cth\u003eV22\u003c/th\u003e\n      \u003cth\u003eV23\u003c/th\u003e\n      \u003cth\u003eV24\u003c/th\u003e\n      \u003cth\u003eV25\u003c/th\u003e\n      \u003cth\u003eV26\u003c/th\u003e\n      \u003cth\u003eV27\u003c/th\u003e\n      \u003cth\u003eV28\u003c/th\u003e\n      \u003cth\u003eAmount\u003c/th\u003e\n      \u003cth\u003eClass\u003c/th\u003e\n    \u003c/tr\u003e\n  \u003c/thead\u003e\n  \u003ctbody\u003e\n    \u003ctr\u003e\n      \u003cth\u003ecount\u003c/th\u003e\n      \u003ctd\u003e284807.000\u003c/td\u003e\n      \u003ctd\u003e284807.000\u003c/td\u003e\n      \u003ctd\u003e284807.000\u003c/td\u003e\n      \u003ctd\u003e284807.000\u003c/td\u003e\n      \u003ctd\u003e284807.000\u003c/td\u003e\n      \u003ctd\u003e284807.000\u003c/td\u003e\n      \u003ctd\u003e284807.000\u003c/td\u003e\n      \u003ctd\u003e284807.000\u003c/td\u003e\n      \u003ctd\u003e284807.000\u003c/td\u003e\n      \u003ctd\u003e284807.000\u003c/td\u003e\n      \u003ctd\u003e...\u003c/td\u003e\n      \u003ctd\u003e284807.000\u003c/td\u003e\n      \u003ctd\u003e284807.000\u003c/td\u003e\n      \u003ctd\u003e284807.000\u003c/td\u003e\n      \u003ctd\u003e284807.000\u003c/td\u003e\n      \u003ctd\u003e284807.000\u003c/td\u003e\n      \u003ctd\u003e284807.000\u003c/td\u003e\n      \u003ctd\u003e284807.000\u003c/td\u003e\n      \u003ctd\u003e284807.000\u003c/td\u003e\n      \u003ctd\u003e284807.000\u003c/td\u003e\n      \u003ctd\u003e284807.000\u003c/td\u003e\n    \u003c/tr\u003e\n    \u003ctr\u003e\n      \u003cth\u003emean\u003c/th\u003e\n      \u003ctd\u003e94813.860\u003c/td\u003e\n      \u003ctd\u003e0.000\u003c/td\u003e\n      \u003ctd\u003e0.000\u003c/td\u003e\n      \u003ctd\u003e-0.000\u003c/td\u003e\n      \u003ctd\u003e0.000\u003c/td\u003e\n      \u003ctd\u003e0.000\u003c/td\u003e\n      \u003ctd\u003e0.000\u003c/td\u003e\n      \u003ctd\u003e-0.000\u003c/td\u003e\n      \u003ctd\u003e0.000\u003c/td\u003e\n      \u003ctd\u003e-0.000\u003c/td\u003e\n      \u003ctd\u003e...\u003c/td\u003e\n      \u003ctd\u003e0.000\u003c/td\u003e\n      \u003ctd\u003e-0.000\u003c/td\u003e\n      \u003ctd\u003e0.000\u003c/td\u003e\n      \u003ctd\u003e0.000\u003c/td\u003e\n      \u003ctd\u003e0.000\u003c/td\u003e\n      \u003ctd\u003e0.000\u003c/td\u003e\n      \u003ctd\u003e-0.000\u003c/td\u003e\n      \u003ctd\u003e-0.000\u003c/td\u003e\n      \u003ctd\u003e88.350\u003c/td\u003e\n      \u003ctd\u003e0.002\u003c/td\u003e\n    \u003c/tr\u003e\n    \u003ctr\u003e\n      \u003cth\u003estd\u003c/th\u003e\n      \u003ctd\u003e47488.146\u003c/td\u003e\n      \u003ctd\u003e1.959\u003c/td\u003e\n      \u003ctd\u003e1.651\u003c/td\u003e\n      \u003ctd\u003e1.516\u003c/td\u003e\n      \u003ctd\u003e1.416\u003c/td\u003e\n      \u003ctd\u003e1.380\u003c/td\u003e\n      \u003ctd\u003e1.332\u003c/td\u003e\n      \u003ctd\u003e1.237\u003c/td\u003e\n      \u003ctd\u003e1.194\u003c/td\u003e\n      \u003ctd\u003e1.099\u003c/td\u003e\n      \u003ctd\u003e...\u003c/td\u003e\n      \u003ctd\u003e0.735\u003c/td\u003e\n      \u003ctd\u003e0.726\u003c/td\u003e\n      \u003ctd\u003e0.624\u003c/td\u003e\n      \u003ctd\u003e0.606\u003c/td\u003e\n      \u003ctd\u003e0.521\u003c/td\u003e\n      \u003ctd\u003e0.482\u003c/td\u003e\n      \u003ctd\u003e0.404\u003c/td\u003e\n      \u003ctd\u003e0.330\u003c/td\u003e\n      \u003ctd\u003e250.120\u003c/td\u003e\n      \u003ctd\u003e0.042\u003c/td\u003e\n    \u003c/tr\u003e\n    \u003ctr\u003e\n      \u003cth\u003emin\u003c/th\u003e\n      \u003ctd\u003e0.000\u003c/td\u003e\n      \u003ctd\u003e-56.408\u003c/td\u003e\n      \u003ctd\u003e-72.716\u003c/td\u003e\n      \u003ctd\u003e-48.326\u003c/td\u003e\n      \u003ctd\u003e-5.683\u003c/td\u003e\n      \u003ctd\u003e-113.743\u003c/td\u003e\n      \u003ctd\u003e-26.161\u003c/td\u003e\n      \u003ctd\u003e-43.557\u003c/td\u003e\n      \u003ctd\u003e-73.217\u003c/td\u003e\n      \u003ctd\u003e-13.434\u003c/td\u003e\n      \u003ctd\u003e...\u003c/td\u003e\n      \u003ctd\u003e-34.830\u003c/td\u003e\n      \u003ctd\u003e-10.933\u003c/td\u003e\n      \u003ctd\u003e-44.808\u003c/td\u003e\n      \u003ctd\u003e-2.837\u003c/td\u003e\n      \u003ctd\u003e-10.295\u003c/td\u003e\n      \u003ctd\u003e-2.605\u003c/td\u003e\n      \u003ctd\u003e-22.566\u003c/td\u003e\n      \u003ctd\u003e-15.430\u003c/td\u003e\n      \u003ctd\u003e0.000\u003c/td\u003e\n      \u003ctd\u003e0.000\u003c/td\u003e\n    \u003c/tr\u003e\n    \u003ctr\u003e\n      \u003cth\u003e25%\u003c/th\u003e\n      \u003ctd\u003e54201.500\u003c/td\u003e\n      \u003ctd\u003e-0.920\u003c/td\u003e\n      \u003ctd\u003e-0.599\u003c/td\u003e\n      \u003ctd\u003e-0.890\u003c/td\u003e\n      \u003ctd\u003e-0.849\u003c/td\u003e\n      \u003ctd\u003e-0.692\u003c/td\u003e\n      \u003ctd\u003e-0.768\u003c/td\u003e\n      \u003ctd\u003e-0.554\u003c/td\u003e\n      \u003ctd\u003e-0.209\u003c/td\u003e\n      \u003ctd\u003e-0.643\u003c/td\u003e\n      \u003ctd\u003e...\u003c/td\u003e\n      \u003ctd\u003e-0.228\u003c/td\u003e\n      \u003ctd\u003e-0.542\u003c/td\u003e\n      \u003ctd\u003e-0.162\u003c/td\u003e\n      \u003ctd\u003e-0.355\u003c/td\u003e\n      \u003ctd\u003e-0.317\u003c/td\u003e\n      \u003ctd\u003e-0.327\u003c/td\u003e\n      \u003ctd\u003e-0.071\u003c/td\u003e\n      \u003ctd\u003e-0.053\u003c/td\u003e\n      \u003ctd\u003e5.600\u003c/td\u003e\n      \u003ctd\u003e0.000\u003c/td\u003e\n    \u003c/tr\u003e\n    \u003ctr\u003e\n      \u003cth\u003e50%\u003c/th\u003e\n      \u003ctd\u003e84692.000\u003c/td\u003e\n      \u003ctd\u003e0.018\u003c/td\u003e\n      \u003ctd\u003e0.065\u003c/td\u003e\n      \u003ctd\u003e0.180\u003c/td\u003e\n      \u003ctd\u003e-0.020\u003c/td\u003e\n      \u003ctd\u003e-0.054\u003c/td\u003e\n      \u003ctd\u003e-0.274\u003c/td\u003e\n      \u003ctd\u003e0.040\u003c/td\u003e\n      \u003ctd\u003e0.022\u003c/td\u003e\n      \u003ctd\u003e-0.051\u003c/td\u003e\n      \u003ctd\u003e...\u003c/td\u003e\n      \u003ctd\u003e-0.029\u003c/td\u003e\n      \u003ctd\u003e0.007\u003c/td\u003e\n      \u003ctd\u003e-0.011\u003c/td\u003e\n      \u003ctd\u003e0.041\u003c/td\u003e\n      \u003ctd\u003e0.017\u003c/td\u003e\n      \u003ctd\u003e-0.052\u003c/td\u003e\n      \u003ctd\u003e0.001\u003c/td\u003e\n      \u003ctd\u003e0.011\u003c/td\u003e\n      \u003ctd\u003e22.000\u003c/td\u003e\n      \u003ctd\u003e0.000\u003c/td\u003e\n    \u003c/tr\u003e\n    \u003ctr\u003e\n      \u003cth\u003e75%\u003c/th\u003e\n      \u003ctd\u003e139320.500\u003c/td\u003e\n      \u003ctd\u003e1.316\u003c/td\u003e\n      \u003ctd\u003e0.804\u003c/td\u003e\n      \u003ctd\u003e1.027\u003c/td\u003e\n      \u003ctd\u003e0.743\u003c/td\u003e\n      \u003ctd\u003e0.612\u003c/td\u003e\n      \u003ctd\u003e0.399\u003c/td\u003e\n      \u003ctd\u003e0.570\u003c/td\u003e\n      \u003ctd\u003e0.327\u003c/td\u003e\n      \u003ctd\u003e0.597\u003c/td\u003e\n      \u003ctd\u003e...\u003c/td\u003e\n      \u003ctd\u003e0.186\u003c/td\u003e\n      \u003ctd\u003e0.529\u003c/td\u003e\n      \u003ctd\u003e0.148\u003c/td\u003e\n      \u003ctd\u003e0.440\u003c/td\u003e\n      \u003ctd\u003e0.351\u003c/td\u003e\n      \u003ctd\u003e0.241\u003c/td\u003e\n      \u003ctd\u003e0.091\u003c/td\u003e\n      \u003ctd\u003e0.078\u003c/td\u003e\n      \u003ctd\u003e77.165\u003c/td\u003e\n      \u003ctd\u003e0.000\u003c/td\u003e\n    \u003c/tr\u003e\n    \u003ctr\u003e\n      \u003cth\u003emax\u003c/th\u003e\n      \u003ctd\u003e172792.000\u003c/td\u003e\n      \u003ctd\u003e2.455\u003c/td\u003e\n      \u003ctd\u003e22.058\u003c/td\u003e\n      \u003ctd\u003e9.383\u003c/td\u003e\n      \u003ctd\u003e16.875\u003c/td\u003e\n      \u003ctd\u003e34.802\u003c/td\u003e\n      \u003ctd\u003e73.302\u003c/td\u003e\n      \u003ctd\u003e120.589\u003c/td\u003e\n      \u003ctd\u003e20.007\u003c/td\u003e\n      \u003ctd\u003e15.595\u003c/td\u003e\n      \u003ctd\u003e...\u003c/td\u003e\n      \u003ctd\u003e27.203\u003c/td\u003e\n      \u003ctd\u003e10.503\u003c/td\u003e\n      \u003ctd\u003e22.528\u003c/td\u003e\n      \u003ctd\u003e4.585\u003c/td\u003e\n      \u003ctd\u003e7.520\u003c/td\u003e\n      \u003ctd\u003e3.517\u003c/td\u003e\n      \u003ctd\u003e31.612\u003c/td\u003e\n      \u003ctd\u003e33.848\u003c/td\u003e\n      \u003ctd\u003e25691.160\u003c/td\u003e\n      \u003ctd\u003e1.000\u003c/td\u003e\n    \u003c/tr\u003e\n  \u003c/tbody\u003e\n\u003c/table\u003e\n\u003cp\u003e8 rows × 31 columns\u003c/p\u003e\n\u003c/div\u003e"
          },
          "metadata": {},
          "output_type": "execute_result",
          "execution_count": 15
        }
      ],
      "source": "pd.DataFrame.round(data.describe(), decimals\u003d3)\n",
      "metadata": {
        "pycharm": {
          "metadata": false,
          "name": "#%%\n",
          "is_executing": false
        }
      }
    },
    {
      "cell_type": "markdown",
      "source": "\u003ca id\u003d\u0027section3.2\u0027\u003e\u003c/a\u003e\n### Description of features\n\nTime \n- Number of seconds elapsed between this transaction and the first transaction in the dataset.\n\nAmount\n- Transaction Amount.\n\nClass\n- 1 for fraudulent transaction, 0 for non-fraudulent transaction.\n\nV1 - V28\n- Numerical input variables which are the principal components obtained with PCA transformation.\n",
      "metadata": {
        "pycharm": {
          "metadata": false,
          "name": "#%% md\n"
        }
      }
    },
    {
      "cell_type": "markdown",
      "source": "\u003ca id\u003d\u0027section3.3\u0027\u003e\u003c/a\u003e\n### Balance of class\n",
      "metadata": {
        "pycharm": {
          "metadata": false,
          "name": "#%% md\n"
        }
      }
    },
    {
      "cell_type": "code",
      "source": "fig \u003d plt.figure(figsize\u003d(10, 8))\nplt.title(\u0027Balance of class\u0027)\nax \u003d sns.countplot(x\u003ddata.Class)\nplt.show()\n\nprint(\u0027Number of fraudulent transactions in the data:\\n{}\u0027.format(data[\u0027Class\u0027].loc[data[\u0027Class\u0027] \u003d\u003d 1].count()))\nprint(\u0027{}% of the transactions are fraudulent\u0027\n      .format(round(data[\u0027Class\u0027].loc[data[\u0027Class\u0027] \u003d\u003d 1].count()/data[\u0027Class\u0027].count(), 5)))\n",
      "metadata": {
        "pycharm": {
          "metadata": false,
          "name": "#%%\n",
          "is_executing": false
        }
      },
      "execution_count": 108,
      "outputs": [
        {
          "data": {
            "text/plain": "\u003cFigure size 720x576 with 1 Axes\u003e",
            "image/png": "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\u003d\u003d\n"
          },
          "metadata": {
            "needs_background": "light"
          },
          "output_type": "display_data"
        },
        {
          "name": "stdout",
          "text": [
            "Number of fraudulent transactions in the data:\n492",
            "\n",
            "0.00173% of the transactions are fraudulent",
            "\n"
          ],
          "output_type": "stream"
        }
      ]
    },
    {
      "cell_type": "markdown",
      "source": "The data set is highly unbalanced with 492 cases of fraud out of 284,807 transactions.\nBesides the necessity of stratified sampling, Tom Fawcett recommends in his blog a number of steps which can be \nto handle the imbalance of classes.* The publishers of the data set recommend using\nthe area under the Precision-Recall Curve (AUPRC) as a measurement of accuracy.\n\n*Source: https://www.svds.com/learning-imbalanced-classes\n",
      "metadata": {
        "pycharm": {
          "metadata": false,
          "name": "#%% md\n"
        }
      }
    },
    {
      "cell_type": "markdown",
      "source": "\u003ca id\u003d\u0027section3.4\u0027\u003e\u003c/a\u003e\n### Distribution of features\n",
      "metadata": {
        "pycharm": {
          "metadata": false,
          "name": "#%% md\n"
        }
      }
    }
  ],
  "metadata": {
    "language_info": {
      "codemirror_mode": {
        "name": "ipython",
        "version": 2
      },
      "file_extension": ".py",
      "mimetype": "text/x-python",
      "name": "python",
      "nbconvert_exporter": "python",
      "pygments_lexer": "ipython2",
      "version": "2.7.6"
    },
    "kernelspec": {
      "name": "python3",
      "language": "python",
      "display_name": "Python 3"
    }
  },
  "nbformat": 4,
  "nbformat_minor": 0
}